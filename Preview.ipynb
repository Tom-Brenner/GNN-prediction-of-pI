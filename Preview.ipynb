{
 "cells": [
  {
   "cell_type": "markdown",
   "id": "222144d8-82e0-4e7a-b9a5-df0a3edac4b4",
   "metadata": {
    "id": "222144d8-82e0-4e7a-b9a5-df0a3edac4b4"
   },
   "source": [
    "# Graph Neural Networks to Predict Protein Isoelectric Points\n",
    "\n",
    "### This notebook will become available on github as soon as my preprint [1] is available online, here: <a href=\"\">TB 2022</a>. \n",
    "### This notebook presents the code used to train graph neural networks on prediction of protein isoelectric points, using experimental datasets curated and made available within the public domain by L. P. Kozlowski <a href=\"www.ipc2-isoelectric-point.org\">(see IPC 2) [2]</a>. As Spektral [3] is used in conjunction with Tensorflow and Keras, we need to import those (and several other) libraries; this notebook is Google Colab–ready, i.e., I provide commands such as the next cell to enable working on Colab. The files provided must obviously be uploaded to the content (root) directory, though.\n",
    "\n"
   ]
  },
  {
   "cell_type": "markdown",
   "id": "6c44dedf-3eef-49d8-ba2c-d7ba2d49a030",
   "metadata": {
    "id": "6c44dedf-3eef-49d8-ba2c-d7ba2d49a030"
   },
   "source": [
    "***"
   ]
  },
  {
   "cell_type": "code",
   "execution_count": null,
   "id": "039d39db-ece3-4b48-b25c-81d5ba6a20df",
   "metadata": {
    "id": "039d39db-ece3-4b48-b25c-81d5ba6a20df"
   },
   "outputs": [],
   "source": [
    "#Install Spektral if working on Google Colab\n",
    "!pip install spektral\n",
    "#Let's install Bio as well. just because...\n",
    "!pip install Bio\n",
    "from Bio import SeqIO"
   ]
  },
  {
   "cell_type": "code",
   "execution_count": null,
   "id": "61b7e5e8-c7db-4c4a-8a8e-9a2c02143b6c",
   "metadata": {
    "id": "61b7e5e8-c7db-4c4a-8a8e-9a2c02143b6c"
   },
   "outputs": [],
   "source": [
    "#Import everything else\n",
    "import numpy as np\n",
    "import re\n",
    "import pandas as pd\n",
    "import matplotlib.pyplot as plt\n",
    "import tensorflow as tf \n",
    "keras = tf.keras \n",
    "import os\n",
    "import math\n",
    "import scipy.sparse as spar\n",
    "import spektral as spk\n",
    "from spektral.data import Dataset, DisjointLoader, Graph, SingleLoader\n",
    "from spektral.transforms.normalize_adj import NormalizeAdj as NormAdj\n",
    "from tensorflow.keras.optimizers import Adam\n",
    "from sklearn.model_selection import KFold\n",
    "from tensorflow.keras.losses import MeanSquaredError, MeanAbsoluteError, Huber\n",
    "import csv\n"
   ]
  },
  {
   "cell_type": "code",
   "execution_count": null,
   "id": "2c784572-933d-42f0-a742-c30acdb43348",
   "metadata": {
    "id": "2c784572-933d-42f0-a742-c30acdb43348"
   },
   "outputs": [],
   "source": [
    "print(\"Num GPUs Available: \", len(tf.config.list_physical_devices('GPU')))"
   ]
  },
  {
   "cell_type": "markdown",
   "id": "f5ec3531-b844-4129-a92a-ef4d0358061d",
   "metadata": {
    "id": "f5ec3531-b844-4129-a92a-ef4d0358061d"
   },
   "source": [
    "***"
   ]
  },
  {
   "cell_type": "markdown",
   "id": "598b3eb5-fe1d-4d41-a945-f63ab3e49434",
   "metadata": {},
   "source": [
    "# SNIPPITY SNIP: The body of this notebook will follow once my preprint is available online."
   ]
  },
  {
   "cell_type": "markdown",
   "id": "5949ac71-5889-42cc-96a3-183fa5240d4a",
   "metadata": {},
   "source": [
    "***"
   ]
  },
  {
   "cell_type": "markdown",
   "id": "1be55374-3d33-45f3-bf6f-7a0135640ee6",
   "metadata": {
    "id": "1be55374-3d33-45f3-bf6f-7a0135640ee6"
   },
   "source": [
    "### If everything goes to plan, you should get RMSE values of about 0.87–0.88 and 0.27–0.28 on the protein and peptide test sets. Now let's predict a pI for a new AA sequence. Feel free to use my 'original_weights'. "
   ]
  },
  {
   "cell_type": "markdown",
   "id": "b79c25fd-2a06-4a8c-88e8-15b79052d260",
   "metadata": {
    "id": "b79c25fd-2a06-4a8c-88e8-15b79052d260"
   },
   "source": [
    "***"
   ]
  },
  {
   "cell_type": "code",
   "execution_count": null,
   "id": "7361a42f-64a0-4ad6-aa85-5c1a4212d27b",
   "metadata": {
    "id": "7361a42f-64a0-4ad6-aa85-5c1a4212d27b"
   },
   "outputs": [],
   "source": [
    "Your_Pro = [''] #copy and paste AA sequence; please keep it to a single string\n",
    "#alternatively, read in a FASTA file below\n",
    "Seq, Nod, Nus, Labs, computed_pI = prep_dataset(IsAcid,pKa_List,AA_List, AA_List_Full,'/content/filename.fasta')\n",
    "your_dataset = MyDataset(Nus,n_AA=21,Nodes=Nod,sequences=Seq,labels=Labs,\n",
    "                    col21_28=col21_28,Just_Descriptors=False,\n",
    "                    transforms=NormAdj())\n",
    "your_loader = DisjointLoader(your_dataset)\n",
    "your_model = GIN(channels=8,dropout_rate=.15,n_layers=4)\n",
    "your_model.load_weights('original_weights')\n",
    "_, B = evaluate(your_loader,your_model)\n",
    "MM = computed_pI + B\n",
    "print(f'The predicted pI is {np.squeeze(MM)}')"
   ]
  },
  {
   "cell_type": "markdown",
   "id": "9a6235db-8e39-41cd-80e5-cfcdefb70084",
   "metadata": {
    "id": "stFE58vt5MBl"
   },
   "source": [
    "### References\n",
    "\n",
    "#### 1. NOT ONLINE YET\n",
    "#### 2. <a href = http://ipc2.mimuw.edu.pl/>Kozlowski 2021 </a>\n",
    "#### 3. <a href = https://github.com/danielegrattarola/spektral/> Spektral </a>\n",
    "#### 4. <a href = https://www.wiley.com/en-ie/Solomons%27+Organic+Chemistry,+12th+Edition,+Global+Edition-p-9781119248972> Solomons, Fryhle, & Snyder 2017 </a>\n",
    "#### 5. <a href = https://journals.aps.org/pre/abstract/10.1103/PhysRevE.75.011920>Moret & Zebende 2007 </a>\n",
    "#### 6. <a href = https://pubmed.ncbi.nlm.nih.gov/3209351/>Fauchere, Charton, Kier, Verloop & Pliska 1988 </a>\n",
    "#### 7. <a href = https://www.pnas.org/doi/10.1073/pnas.96.22.12524> Koehl & Levitt, 1999 </a>"
   ]
  },
  {
   "cell_type": "markdown",
   "id": "ae953537-8b94-4963-82e9-b0750e2ba0f8",
   "metadata": {
    "id": "ae953537-8b94-4963-82e9-b0750e2ba0f8"
   },
   "source": [
    "***"
   ]
  }
 ],
 "metadata": {
  "accelerator": "GPU",
  "colab": {
   "private_outputs": true,
   "provenance": []
  },
  "gpuClass": "standard",
  "kernelspec": {
   "display_name": "Python 3 (ipykernel)",
   "language": "python",
   "name": "python3"
  },
  "language_info": {
   "codemirror_mode": {
    "name": "ipython",
    "version": 3
   },
   "file_extension": ".py",
   "mimetype": "text/x-python",
   "name": "python",
   "nbconvert_exporter": "python",
   "pygments_lexer": "ipython3",
   "version": "3.10.6"
  }
 },
 "nbformat": 4,
 "nbformat_minor": 5
}
